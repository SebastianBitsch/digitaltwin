{
 "cells": [
  {
   "cell_type": "code",
   "execution_count": 1,
   "metadata": {},
   "outputs": [],
   "source": [
    "import supervision as sv\n",
    "from ultralytics import YOLO\n",
    "from tqdm import tqdm\n",
    "# from digitaltwin.objects import Camera"
   ]
  },
  {
   "cell_type": "code",
   "execution_count": 2,
   "metadata": {},
   "outputs": [],
   "source": [
    "SOURCE_VIDEO_PATH = \"../data/raw/Camera.mp4\"\n",
    "\n",
    "PERSON_DETECTION_MODEL = YOLO(\"../models/yolo11n.pt\")\n",
    "PERSON_ID = 0"
   ]
  },
  {
   "cell_type": "code",
   "execution_count": 3,
   "metadata": {},
   "outputs": [
    {
     "name": "stdout",
     "output_type": "stream",
     "text": [
      "\n",
      "WARNING ⚠️ 'source' is missing. Using 'source=/Users/sebastianbitsch/Documents/Programmeringsprojekter/digitaltwin/.venv/lib/python3.11/site-packages/ultralytics/assets'.\n"
     ]
    },
    {
     "name": "stderr",
     "output_type": "stream",
     "text": [
      "[W NNPACK.cpp:64] Could not initialize NNPACK! Reason: Unsupported hardware.\n"
     ]
    },
    {
     "name": "stdout",
     "output_type": "stream",
     "text": [
      "video 1/1 (frame 1/9000) /Users/sebastianbitsch/Documents/Programmeringsprojekter/digitaltwin/notebooks/../data/raw/Camera.mp4: 384x640 18 persons, 1 truck, 233.5ms\n"
     ]
    },
    {
     "ename": "AttributeError",
     "evalue": "'numpy.ndarray' object has no attribute 'show'",
     "output_type": "error",
     "traceback": [
      "\u001b[31m---------------------------------------------------------------------------\u001b[39m",
      "\u001b[31mAttributeError\u001b[39m                            Traceback (most recent call last)",
      "\u001b[36mCell\u001b[39m\u001b[36m \u001b[39m\u001b[32mIn[3]\u001b[39m\u001b[32m, line 10\u001b[39m\n\u001b[32m      8\u001b[39m \u001b[38;5;28;01mfor\u001b[39;00m r \u001b[38;5;129;01min\u001b[39;00m results:\n\u001b[32m      9\u001b[39m     im = r.plot(conf=\u001b[38;5;28;01mFalse\u001b[39;00m, labels=\u001b[38;5;28;01mFalse\u001b[39;00m)\n\u001b[32m---> \u001b[39m\u001b[32m10\u001b[39m     \u001b[43mim\u001b[49m\u001b[43m.\u001b[49m\u001b[43mshow\u001b[49m()\n\u001b[32m     11\u001b[39m     \u001b[38;5;66;03m# im.show()\u001b[39;00m\n",
      "\u001b[31mAttributeError\u001b[39m: 'numpy.ndarray' object has no attribute 'show'"
     ]
    }
   ],
   "source": [
    "results = PERSON_DETECTION_MODEL.track(\n",
    "    source = SOURCE_VIDEO_PATH,\n",
    "    conf=0.3, tracker=\"botsort.yaml\", \n",
    "    # show=True,\n",
    "    # persist=True, \n",
    "    stream=True\n",
    ")\n",
    "for r in results:\n",
    "    im = r.plot(conf=False, labels=False)\n",
    "    im.show()\n",
    "    # im.show()"
   ]
  },
  {
   "cell_type": "code",
   "execution_count": null,
   "metadata": {},
   "outputs": [],
   "source": []
  },
  {
   "cell_type": "code",
   "execution_count": null,
   "metadata": {},
   "outputs": [],
   "source": []
  },
  {
   "cell_type": "code",
   "execution_count": null,
   "metadata": {},
   "outputs": [],
   "source": []
  }
 ],
 "metadata": {
  "kernelspec": {
   "display_name": ".venv",
   "language": "python",
   "name": "python3"
  },
  "language_info": {
   "codemirror_mode": {
    "name": "ipython",
    "version": 3
   },
   "file_extension": ".py",
   "mimetype": "text/x-python",
   "name": "python",
   "nbconvert_exporter": "python",
   "pygments_lexer": "ipython3",
   "version": "3.11.11"
  }
 },
 "nbformat": 4,
 "nbformat_minor": 2
}
